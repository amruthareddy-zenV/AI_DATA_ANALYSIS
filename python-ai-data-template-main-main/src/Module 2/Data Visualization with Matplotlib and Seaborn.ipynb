{
 "cells": [
  {
   "cell_type": "code",
   "execution_count": null,
   "metadata": {},
   "outputs": [],
   "source": [
    "# Question 1: Creating a Simple Bar Plot with Matplotlib\n",
    "# Description:\n",
    "# Create a bar plot using Matplotlib to visualize the number of sales (in thousands) for a set of\n",
    "# products: 'A', 'B', 'C', 'D', and 'E' with values [23, 75, 57, 90, 65].# "
   ]
  },
  {
   "cell_type": "code",
   "execution_count": null,
   "metadata": {},
   "outputs": [],
   "source": [
    "# Question 2: Plotting a Scatter Plot with Matplotlib\n",
    "# Description:\n",
    "# Plot a scatter plot to visualize the relationship between height in centimeters and weight in\n",
    "# kilograms for a population dataset: Heights [160, 170, 165, 180, 175] and Weights [55, 65, 60,\n",
    "# 80, 76].,"
   ]
  },
  {
   "cell_type": "code",
   "execution_count": null,
   "metadata": {},
   "outputs": [],
   "source": [
    "# Question 3: Constructing a Histogram with Matplotlib\n",
    "# Description:\n",
    "# Create a histogram to observe the distribution of marks obtained by students in a class: Marks\n",
    "# [23, 45, 56, 78, 89, 90, 67, 88, 76, 59]."
   ]
  },
  {
   "cell_type": "code",
   "execution_count": null,
   "metadata": {},
   "outputs": [],
   "source": []
  }
 ],
 "metadata": {
  "language_info": {
   "name": "python"
  }
 },
 "nbformat": 4,
 "nbformat_minor": 2
}
